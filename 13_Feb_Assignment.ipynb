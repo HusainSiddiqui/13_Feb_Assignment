{
 "cells": [
  {
   "cell_type": "markdown",
   "metadata": {},
   "source": [
    "Q1. Explain why we have to use the Exception class while creating a Custom Exception.\n",
    "\n",
    "Note: Here Exception class refers to the base class for all the exceptions."
   ]
  },
  {
   "cell_type": "markdown",
   "metadata": {},
   "source": [
    "The class Exception and its subclasses are a form of Throwable that indicates conditions that a reasonable application might want to catch. \n",
    "The class Exception and any subclasses that are not also subclasses of RuntimeException are checked exceptions."
   ]
  },
  {
   "cell_type": "markdown",
   "metadata": {},
   "source": [
    "Q2. Write a python program to print Python Exception Hierarchy."
   ]
  },
  {
   "cell_type": "code",
   "execution_count": 1,
   "metadata": {},
   "outputs": [],
   "source": [
    "def sub(cls):\n",
    "    for s in cls.__subclasses__():\n",
    "        print(' '*6,s.__name__)"
   ]
  },
  {
   "cell_type": "code",
   "execution_count": 2,
   "metadata": {},
   "outputs": [
    {
     "name": "stdout",
     "output_type": "stream",
     "text": [
      "Exception\n",
      "    TypeError\n",
      "       FloatOperation\n",
      "    StopAsyncIteration\n",
      "    StopIteration\n",
      "    ImportError\n",
      "       ModuleNotFoundError\n",
      "       ZipImportError\n",
      "    OSError\n",
      "       ConnectionError\n",
      "       BlockingIOError\n",
      "       ChildProcessError\n",
      "       FileExistsError\n",
      "       FileNotFoundError\n",
      "       IsADirectoryError\n",
      "       NotADirectoryError\n",
      "       InterruptedError\n",
      "       PermissionError\n",
      "       ProcessLookupError\n",
      "       TimeoutError\n",
      "       UnsupportedOperation\n",
      "       Error\n",
      "       SpecialFileError\n",
      "       ExecError\n",
      "       ReadError\n",
      "       herror\n",
      "       gaierror\n",
      "       timeout\n",
      "       SSLError\n",
      "    EOFError\n",
      "       IncompleteReadError\n",
      "    RuntimeError\n",
      "       RecursionError\n",
      "       NotImplementedError\n",
      "       _DeadlockError\n",
      "       BrokenBarrierError\n",
      "       BrokenProcessPool\n",
      "    NameError\n",
      "       UnboundLocalError\n",
      "    AttributeError\n",
      "    SyntaxError\n",
      "       IndentationError\n",
      "    LookupError\n",
      "       IndexError\n",
      "       KeyError\n",
      "       CodecRegistryError\n",
      "    ValueError\n",
      "       UnicodeError\n",
      "       UnsupportedOperation\n",
      "       JSONDecodeError\n",
      "       Error\n",
      "       ClassNotFound\n",
      "       ClipboardEmpty\n",
      "       MacroToEdit\n",
      "       AddressValueError\n",
      "       NetmaskValueError\n",
      "       CertificateError\n",
      "       IllegalMonthError\n",
      "       IllegalWeekdayError\n",
      "    AssertionError\n",
      "    ArithmeticError\n",
      "       FloatingPointError\n",
      "       OverflowError\n",
      "       ZeroDivisionError\n",
      "       DecimalException\n",
      "    SystemError\n",
      "       CodecRegistryError\n",
      "    ReferenceError\n",
      "    BufferError\n",
      "    MemoryError\n",
      "    Warning\n",
      "       UserWarning\n",
      "       DeprecationWarning\n",
      "       PendingDeprecationWarning\n",
      "       SyntaxWarning\n",
      "       RuntimeWarning\n",
      "       FutureWarning\n",
      "       ImportWarning\n",
      "       UnicodeWarning\n",
      "       BytesWarning\n",
      "       ResourceWarning\n",
      "       DeprecatedTzFormatWarning\n",
      "    Error\n",
      "    _OptionError\n",
      "    _Error\n",
      "    error\n",
      "    Verbose\n",
      "    SubprocessError\n",
      "       CalledProcessError\n",
      "       TimeoutExpired\n",
      "    TokenError\n",
      "    StopTokenizing\n",
      "    Error\n",
      "    error\n",
      "    LZMAError\n",
      "    RegistryError\n",
      "    EndOfBlock\n",
      "    error\n",
      "    TraitError\n",
      "    ArgumentError\n",
      "    ArgumentTypeError\n",
      "    ConfigError\n",
      "       ConfigLoaderError\n",
      "       ConfigFileNotFound\n",
      "    ConfigurableError\n",
      "       MultipleInstanceError\n",
      "    ApplicationError\n",
      "    ErrorDuringImport\n",
      "    BdbQuit\n",
      "    Restart\n",
      "    COMError\n",
      "    ArgumentError\n",
      "    FindCmdError\n",
      "    HomeDirError\n",
      "    ProfileDirError\n",
      "    IPythonCoreError\n",
      "       TryNext\n",
      "       UsageError\n",
      "       StdinNotImplementedError\n",
      "    InputRejected\n",
      "    GetoptError\n",
      "    Incomplete\n",
      "    OptionError\n",
      "    ErrorToken\n",
      "    TokenError\n",
      "    StopTokenizing\n",
      "    _Stop\n",
      "    PickleError\n",
      "       PicklingError\n",
      "       UnpicklingError\n",
      "    PrefilterError\n",
      "    AliasError\n",
      "       InvalidAliasError\n",
      "    Error\n",
      "       InterfaceError\n",
      "       DatabaseError\n",
      "    Warning\n",
      "    SpaceInInput\n",
      "    ValidationError\n",
      "    EditReadOnlyBuffer\n",
      "    HeightIsUnknownError\n",
      "    NoConsoleScreenBufferError\n",
      "    InternalParseError\n",
      "    ParserSyntaxError\n",
      "    _PositionUpdatingFinished\n",
      "    _GiveupOnSendfile\n",
      "    Empty\n",
      "    Full\n",
      "    UncaughtAttributeError\n",
      "    FakeDoesNotExist\n",
      "    OnErrorLeaf\n",
      "    DistutilsError\n",
      "       DistutilsModuleError\n",
      "       DistutilsClassError\n",
      "       DistutilsGetoptError\n",
      "       DistutilsArgError\n",
      "       DistutilsFileError\n",
      "       DistutilsOptionError\n",
      "       DistutilsSetupError\n",
      "       DistutilsPlatformError\n",
      "       DistutilsExecError\n",
      "       DistutilsInternalError\n",
      "       DistutilsTemplateError\n",
      "       DistutilsByteCompileError\n",
      "    CCompilerError\n",
      "       PreprocessError\n",
      "       CompileError\n",
      "       LibError\n",
      "       LinkError\n",
      "       UnknownFileError\n",
      "    _JediError\n",
      "       InternalError\n",
      "       WrongVersion\n",
      "    InvalidPythonEnvironment\n",
      "    InteractivelyDefined\n",
      "    OptParseError\n",
      "       OptionError\n",
      "       OptionValueError\n",
      "       BadOptionError\n",
      "    KillEmbedded\n",
      "    ZMQBaseError\n",
      "       ZMQError\n",
      "       ZMQBindError\n",
      "       NotDone\n",
      "    NoIPAddresses\n",
      "    InvalidPortNumber\n",
      "    DuplicateKernelError\n",
      "    TimeoutError\n",
      "    StackContextInconsistentError\n",
      "    Error\n",
      "       CancelledError\n",
      "       TimeoutError\n",
      "       InvalidStateError\n",
      "    ProcessError\n",
      "       BufferTooShort\n",
      "       TimeoutError\n",
      "       AuthenticationError\n",
      "    _RemoteTraceback\n",
      "    QueueEmpty\n",
      "    QueueFull\n",
      "    LimitOverrunError\n",
      "    ReturnValueIgnoredError\n",
      "    KeyReuseError\n",
      "    UnknownKeyError\n",
      "    LeakedCallbackError\n",
      "    BadYieldError\n",
      "    ReturnValueIgnoredError\n",
      "    Return\n",
      "    QueueEmpty\n",
      "    QueueFull\n",
      "GeneratorExit\n",
      "SystemExit\n",
      "KeyboardInterrupt\n"
     ]
    }
   ],
   "source": [
    "for cls in BaseException.__subclasses__():\n",
    "    print(cls.__name__)\n",
    "    \n",
    "    for s in cls.__subclasses__():\n",
    "        \n",
    "        print(' '*3,s.__name__)\n",
    "        sub(s)"
   ]
  },
  {
   "cell_type": "markdown",
   "metadata": {},
   "source": [
    "Q3. What errors are defined in the ArithmeticError class? Explain any two with an example."
   ]
  },
  {
   "cell_type": "markdown",
   "metadata": {},
   "source": [
    "The arithmetic error occurs when an error is encountered during numeric calculations in Python. \n",
    "This includes:"
   ]
  },
  {
   "cell_type": "markdown",
   "metadata": {},
   "source": [
    "ArithmeticError\n",
    "\n",
    "---------  FloatingPointError\n",
    "\n",
    "---------  OverflowError\n",
    "\n",
    "---------  ZeroDivisionError"
   ]
  },
  {
   "cell_type": "markdown",
   "metadata": {},
   "source": [
    "FloatingPointError: is raised when a float calculation fails"
   ]
  },
  {
   "cell_type": "markdown",
   "metadata": {},
   "source": [
    "OverflowError: is raise when result too large to be expressed."
   ]
  },
  {
   "cell_type": "markdown",
   "metadata": {},
   "source": [
    "ZeroDivisionError: is raised when you divide a numeric value by zero. number = 6 ZeroErro = 6 / 0"
   ]
  },
  {
   "cell_type": "markdown",
   "metadata": {},
   "source": [
    "Q4. Why LookupError class is used? Explain with an example KeyError and IndexError."
   ]
  },
  {
   "cell_type": "markdown",
   "metadata": {},
   "source": [
    "You can use LookupError exception class to handle both IndexError and KeyError exception classes.\n",
    "\n",
    "- LookupError\n",
    "\n",
    " --> IndexError\n",
    "    \n",
    " --> KeyError"
   ]
  },
  {
   "cell_type": "code",
   "execution_count": 25,
   "metadata": {},
   "outputs": [
    {
     "name": "stdout",
     "output_type": "stream",
     "text": [
      "list index out of range <class 'IndexError'>\n"
     ]
    }
   ],
   "source": [
    "# lists\n",
    "x = [1, 2, 3, 4]\n",
    "try:\n",
    "    print(x[10])\n",
    "except LookupError as e:\n",
    "    print(e,e.__class__)"
   ]
  },
  {
   "cell_type": "code",
   "execution_count": 30,
   "metadata": {},
   "outputs": [
    {
     "name": "stdout",
     "output_type": "stream",
     "text": [
      "What do you want to learn about Pylenin==> age\n",
      "age is 28\n"
     ]
    }
   ],
   "source": [
    "pylenin_info = {'name': 'Lenin Mishra',\n",
    "                'age': 28,\n",
    "                'language': 'Python'}\n",
    "user_input = input('What do you want to learn about Pylenin==> ')\n",
    "\n",
    "try:\n",
    "    print(f'{user_input} is {pylenin_info[user_input]}')\n",
    "except LookupError as e:\n",
    "    print(e,e.__class__)"
   ]
  },
  {
   "cell_type": "markdown",
   "metadata": {},
   "source": [
    "Q5. Explain ImportError. What is ModuleNotFoundError?"
   ]
  },
  {
   "cell_type": "markdown",
   "metadata": {},
   "source": [
    " This error generally occurs when a class cannot be imported due to one of the following reasons:\n",
    "\n",
    "    The imported class is in a circular dependency.\n",
    "    The imported class is unavailable or was not created.\n",
    "    The imported class name is misspelled.\n",
    "    The imported class from a module is misplaced.\n",
    "    The imported class is unavailable in the Python library.\n"
   ]
  },
  {
   "cell_type": "markdown",
   "metadata": {},
   "source": [
    "A ModuleNotFoundError is raised when Python cannot successfully import a module."
   ]
  },
  {
   "cell_type": "code",
   "execution_count": null,
   "metadata": {},
   "outputs": [],
   "source": []
  },
  {
   "cell_type": "markdown",
   "metadata": {},
   "source": [
    "Q6. List down some best practices for exception handling in python."
   ]
  },
  {
   "cell_type": "markdown",
   "metadata": {},
   "source": [
    "1. Use Exceptions for Exceptional Cases\n",
    "\n",
    "Exceptions are slow, and they can make code harder to read and understand. \n",
    "\n",
    "    So what counts as an exceptional case? Here are some examples:\n",
    "\n",
    "    – A network connection is refused\n",
    "    – A file cannot be opened\n",
    "    – A database query returns no results\n",
    "\n",
    "    These are all cases where something went wrong that was not expected to go wrong. "
   ]
  },
  {
   "cell_type": "markdown",
   "metadata": {},
   "source": [
    "2. Don’t Swallow the Exception\n",
    "\n",
    "Swallowing it means that the bug will never be fixed\n",
    "\n",
    "    Finally, swallowing exceptions is generally considered bad practice because it goes against the principle of \n",
    "    “fail early, fail often.” Failing early means failing as soon as possible so that you can fix the problem and move on. \n",
    "    Failing often means failing frequently so that you get used to it and become better at dealing with failures."
   ]
  },
  {
   "cell_type": "markdown",
   "metadata": {},
   "source": [
    "3. Catch Specific Exceptions\n",
    "\n",
    "When you catch a general exception, like Exception, you’re catching everything.\n",
    "\n",
    "It’s better to be explicit about which exceptions you want to catch, so you can handle them appropriately.\n",
    "\n",
    "It’s also important to remember that when you catch an exception, you’re essentially saying “I know this might happen, and I’m prepared to deal with it.”"
   ]
  },
  {
   "cell_type": "markdown",
   "metadata": {},
   "source": [
    "4. Always Clean Up Resources in a Finally Block\n",
    "\n",
    "The best way to ensure the file is properly closed is to put the code for closing it in a finally block. \n",
    "\n",
    "That way, whether or not an exception occurs, the file will always be closed before the program continues."
   ]
  },
  {
   "cell_type": "markdown",
   "metadata": {},
   "source": [
    "5. Avoid Raising Generic Exceptions\n",
    "\n",
    "When you raise a generic exception, such as Exception or RuntimeError, you are essentially saying \n",
    "“I don’t know what went wrong, but something did.” \n",
    "This is not helpful for either you or your users. \n",
    "It’s much better to be specific about the error that occurred."
   ]
  },
  {
   "cell_type": "markdown",
   "metadata": {},
   "source": [
    "6. Raise Custom Exceptions\n",
    "\n",
    "By raising a custom exception, you can provide a specific error message that will be displayed to the user. \n",
    "This is helpful because it can give the user a clue as to what went wrong and how to fix it."
   ]
  },
  {
   "cell_type": "markdown",
   "metadata": {},
   "source": [
    "7. Define Your Own Exception Hierarchy\n",
    "\n",
    "For example, you might want to log an error and exit gracefully when you encounter a SystemExit exception, \n",
    "but you might want to just log an error when you encounter an ImportError.\n",
    "\n",
    "class MyBaseException(Exception):\n",
    "pass\n",
    "\n",
    "class MySystemExitException(MyBaseException):\n",
    "pass\n",
    "\n",
    "class MyImportError(MyBaseException):\n",
    "pass\n",
    "\n",
    "Now you can write code that handles each type of exception in the way that makes the most sense. For example:\n",
    "\n",
    "try:\n",
    "\n",
    "     '''Some code that might throw an exception'''\n",
    " \n",
    "except MySystemExitException:\n",
    "\n",
    "     '''Handle this type of exception by logging it and exiting gracefully'''\n",
    " \n",
    "except MyImportError:\n",
    "\n",
    "     '''Handle this type of exception by just logging it'''\n",
    " \n",
    "else:\n",
    "\n",
    "     '''No exceptions were raised, so handle this case accordingly'''"
   ]
  },
  {
   "cell_type": "markdown",
   "metadata": {},
   "source": [
    "8. Document All Exceptions Thrown by a Function\n",
    "\n",
    "    documenting exceptions can help with debugging. If you know what exceptions,\n",
    "\n",
    "    a function can raise,then you can narrow down the possible causes of an error when one occurs."
   ]
  },
  {
   "cell_type": "markdown",
   "metadata": {},
   "source": [
    "9. Provide Contextual Information When Raising an Exception\n",
    "\n",
    "    When an exception is raised, the Python interpreter stops execution of the program and prints out a traceback. \n",
    "\n",
    "    The traceback starts with the line where the exception was raised and \n",
    "\n",
    "    includes the lines of code that were executed leadingup to that point."
   ]
  },
  {
   "cell_type": "markdown",
   "metadata": {},
   "source": [
    "10. Write Tests to Ensure That Exceptions Are Raised Correctly\n",
    "    If you don’t write tests, you can’t be sure that your code is actually raising the exceptions you think it is. \n",
    "    This can lead to all sorts of problems down the line, including hard-to-find bugs and unexpected behavior."
   ]
  }
 ],
 "metadata": {
  "kernelspec": {
   "display_name": "Python 3",
   "language": "python",
   "name": "python3"
  },
  "language_info": {
   "codemirror_mode": {
    "name": "ipython",
    "version": 3
   },
   "file_extension": ".py",
   "mimetype": "text/x-python",
   "name": "python",
   "nbconvert_exporter": "python",
   "pygments_lexer": "ipython3",
   "version": "3.6.5"
  }
 },
 "nbformat": 4,
 "nbformat_minor": 2
}
